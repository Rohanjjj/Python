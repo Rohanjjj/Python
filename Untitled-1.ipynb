{
 "cells": [
  {
   "cell_type": "code",
   "execution_count": 3,
   "metadata": {},
   "outputs": [
    {
     "name": "stdout",
     "output_type": "stream",
     "text": [
      "Winner(s): Alice\n"
     ]
    }
   ],
   "source": [
    "class Candidate:\n",
    "    def __init__(self, name):\n",
    "        self.name = name\n",
    "        self.votes = 0\n",
    "\n",
    "class VotingMachine:\n",
    "    def __init__(self):\n",
    "        self.candidates = {}\n",
    "\n",
    "    def add_candidate(self, name):\n",
    "        if name not in self.candidates:\n",
    "            self.candidates[name] = Candidate(name)\n",
    "\n",
    "    def vote(self, candidate_name):\n",
    "        if candidate_name in self.candidates:\n",
    "            self.candidates[candidate_name].votes += 1\n",
    "        else:\n",
    "            print(f\"Candidate {candidate_name} does not exist.\")\n",
    "\n",
    "    def get_results(self):\n",
    "        max_votes = max(candidate.votes for candidate in self.candidates.values())\n",
    "        winners = [candidate.name for candidate in self.candidates.values() if candidate.votes == max_votes]\n",
    "        print(f\"Winner(s): {', '.join(winners)}\")\n",
    "\n",
    "# Usage\n",
    "voting_machine = VotingMachine()\n",
    "voting_machine.add_candidate(\"Alice\")\n",
    "voting_machine.add_candidate(\"Bob\")\n",
    "voting_machine.add_candidate(\"Charlie\")\n",
    "\n",
    "voting_machine.vote(\"Alice\")\n",
    "voting_machine.vote(\"Bob\")\n",
    "voting_machine.vote(\"Alice\")\n",
    "\n",
    "voting_machine.get_results()"
   ]
  }
 ],
 "metadata": {
  "kernelspec": {
   "display_name": "Python 3",
   "language": "python",
   "name": "python3"
  },
  "language_info": {
   "codemirror_mode": {
    "name": "ipython",
    "version": 3
   },
   "file_extension": ".py",
   "mimetype": "text/x-python",
   "name": "python",
   "nbconvert_exporter": "python",
   "pygments_lexer": "ipython3",
   "version": "3.11.6"
  }
 },
 "nbformat": 4,
 "nbformat_minor": 2
}
