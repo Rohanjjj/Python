{
 "cells": [
  {
   "cell_type": "code",
   "execution_count": 1,
   "metadata": {},
   "outputs": [],
   "source": [
    "import tkinter \n",
    "from tkinter import *\n",
    "from tkinter import messagebox\n",
    "win=Tk()\n",
    "win.title('Button widget')\n",
    "win.geometry('300x200')\n",
    "\n",
    "def click():\n",
    "    messagebox.showinfo('Message','Green button is clicked')\n",
    "\n",
    "def click1():\n",
    "    messagebox.showinfo('Message','Yellow button is clicked')\n",
    "    \n",
    "a=Button(win,text='Yellow',command=click1,activeforeground=\"yellow\",activebackground=\"white\",pady=10)\n",
    "b=Button(win,text='Blue',activeforeground=\"Blue\",activebackground=\"white\",pady=10)\n",
    "c=Button(win,text='Green',command=click1,activeforeground=\"Green\",activebackground=\"white\",pady=10)\n",
    "d=Button(win,text='Red',activeforeground=\"yellow\",activebackground=\"white\",pady=10)\n",
    "a.pack(side=LEFT)\n",
    "b.pack(side=RIGHT)\n",
    "c.pack(side=TOP)\n",
    "d.pack(side=BOTTOM)\n",
    "win.mainloop()"
   ]
  },
  {
   "cell_type": "code",
   "execution_count": 2,
   "metadata": {},
   "outputs": [
    {
     "ename": "TclError",
     "evalue": "unknown option \"-y\"",
     "output_type": "error",
     "traceback": [
      "\u001b[1;31m---------------------------------------------------------------------------\u001b[0m",
      "\u001b[1;31mTclError\u001b[0m                                  Traceback (most recent call last)",
      "\u001b[1;32mUntitled-1.ipynb Cell 2\u001b[0m line \u001b[0;36m1\n\u001b[0;32m      <a href='vscode-notebook-cell:Untitled-1.ipynb?jupyter-notebook#W1sdW50aXRsZWQ%3D?line=6'>7</a>\u001b[0m Password\u001b[39m=\u001b[39mLabel(win,text\u001b[39m=\u001b[39m\u001b[39m'\u001b[39m\u001b[39mPassword\u001b[39m\u001b[39m'\u001b[39m)\u001b[39m.\u001b[39mplace(x\u001b[39m=\u001b[39m\u001b[39m40\u001b[39m,y\u001b[39m=\u001b[39m\u001b[39m0\u001b[39m)\n\u001b[0;32m      <a href='vscode-notebook-cell:Untitled-1.ipynb?jupyter-notebook#W1sdW50aXRsZWQ%3D?line=7'>8</a>\u001b[0m submitbutton\u001b[39m=\u001b[39mButton(win,text\u001b[39m=\u001b[39m\u001b[39m'\u001b[39m\u001b[39mSubmit\u001b[39m\u001b[39m'\u001b[39m,activebackground\u001b[39m=\u001b[39m\u001b[39m\"\u001b[39m\u001b[39mred\u001b[39m\u001b[39m\"\u001b[39m,activeforeground\u001b[39m=\u001b[39m\u001b[39m\"\u001b[39m\u001b[39mBlue\u001b[39m\u001b[39m\"\u001b[39m)\u001b[39m.\u001b[39mplace(x\u001b[39m=\u001b[39m\u001b[39m30\u001b[39m,y\u001b[39m=\u001b[39m\u001b[39m120\u001b[39m)\n\u001b[1;32m---> <a href='vscode-notebook-cell:Untitled-1.ipynb?jupyter-notebook#W1sdW50aXRsZWQ%3D?line=9'>10</a>\u001b[0m username\u001b[39m=\u001b[39mEntry(win,width\u001b[39m=\u001b[39;49m\u001b[39m20\u001b[39;49m,x\u001b[39m=\u001b[39;49m\u001b[39m30\u001b[39;49m,y\u001b[39m=\u001b[39;49m\u001b[39m50\u001b[39;49m)\n\u001b[0;32m     <a href='vscode-notebook-cell:Untitled-1.ipynb?jupyter-notebook#W1sdW50aXRsZWQ%3D?line=10'>11</a>\u001b[0m Password\u001b[39m=\u001b[39mEntry(win,width\u001b[39m=\u001b[39m\u001b[39m20\u001b[39m,x\u001b[39m=\u001b[39m\u001b[39m30\u001b[39m,y\u001b[39m=\u001b[39m\u001b[39m90\u001b[39m)\n\u001b[0;32m     <a href='vscode-notebook-cell:Untitled-1.ipynb?jupyter-notebook#W1sdW50aXRsZWQ%3D?line=12'>13</a>\u001b[0m win\u001b[39m.\u001b[39mmainloop()\n",
      "File \u001b[1;32mC:\\Program Files\\WindowsApps\\PythonSoftwareFoundation.Python.3.12_3.12.240.0_x64__qbz5n2kfra8p0\\Lib\\tkinter\\__init__.py:3102\u001b[0m, in \u001b[0;36mEntry.__init__\u001b[1;34m(self, master, cnf, **kw)\u001b[0m\n\u001b[0;32m   3091\u001b[0m \u001b[39mdef\u001b[39;00m \u001b[39m__init__\u001b[39m(\u001b[39mself\u001b[39m, master\u001b[39m=\u001b[39m\u001b[39mNone\u001b[39;00m, cnf\u001b[39m=\u001b[39m{}, \u001b[39m*\u001b[39m\u001b[39m*\u001b[39mkw):\n\u001b[0;32m   3092\u001b[0m \u001b[39m    \u001b[39m\u001b[39m\"\"\"Construct an entry widget with the parent MASTER.\u001b[39;00m\n\u001b[0;32m   3093\u001b[0m \n\u001b[0;32m   3094\u001b[0m \u001b[39m    Valid resource names: background, bd, bg, borderwidth, cursor,\u001b[39;00m\n\u001b[1;32m   (...)\u001b[0m\n\u001b[0;32m   3100\u001b[0m \u001b[39m    textvariable, validate, validatecommand, vcmd, width,\u001b[39;00m\n\u001b[0;32m   3101\u001b[0m \u001b[39m    xscrollcommand.\"\"\"\u001b[39;00m\n\u001b[1;32m-> 3102\u001b[0m     Widget\u001b[39m.\u001b[39;49m\u001b[39m__init__\u001b[39;49m(\u001b[39mself\u001b[39;49m, master, \u001b[39m'\u001b[39;49m\u001b[39mentry\u001b[39;49m\u001b[39m'\u001b[39;49m, cnf, kw)\n",
      "File \u001b[1;32mC:\\Program Files\\WindowsApps\\PythonSoftwareFoundation.Python.3.12_3.12.240.0_x64__qbz5n2kfra8p0\\Lib\\tkinter\\__init__.py:2629\u001b[0m, in \u001b[0;36mBaseWidget.__init__\u001b[1;34m(self, master, widgetName, cnf, kw, extra)\u001b[0m\n\u001b[0;32m   2627\u001b[0m \u001b[39mfor\u001b[39;00m k, v \u001b[39min\u001b[39;00m classes:\n\u001b[0;32m   2628\u001b[0m     \u001b[39mdel\u001b[39;00m cnf[k]\n\u001b[1;32m-> 2629\u001b[0m \u001b[39mself\u001b[39;49m\u001b[39m.\u001b[39;49mtk\u001b[39m.\u001b[39;49mcall(\n\u001b[0;32m   2630\u001b[0m     (widgetName, \u001b[39mself\u001b[39;49m\u001b[39m.\u001b[39;49m_w) \u001b[39m+\u001b[39;49m extra \u001b[39m+\u001b[39;49m \u001b[39mself\u001b[39;49m\u001b[39m.\u001b[39;49m_options(cnf))\n\u001b[0;32m   2631\u001b[0m \u001b[39mfor\u001b[39;00m k, v \u001b[39min\u001b[39;00m classes:\n\u001b[0;32m   2632\u001b[0m     k\u001b[39m.\u001b[39mconfigure(\u001b[39mself\u001b[39m, v)\n",
      "\u001b[1;31mTclError\u001b[0m: unknown option \"-y\""
     ]
    }
   ],
   "source": [
    "import tkinter \n",
    "from tkinter import *\n",
    "win=Tk()\n",
    "win.title(\"Travelling agency\")\n",
    "win.geometry('400x400')\n",
    "usermane=Label(win,text='Username').place(x=30,y=0)\n",
    "Password=Label(win,text='Password').place(x=40,y=0)\n",
    "submitbutton=Button(win,text='Submit',activebackground=\"red\",activeforeground=\"Blue\").place(x=30,y=120)\n",
    "\n",
    "username=Entry(win,width=20,x=30,y=50)\n",
    "Password=Entry(win,width=20,x=30,y=90)\n",
    "\n",
    "win.mainloop()\n",
    "\n"
   ]
  },
  {
   "cell_type": "code",
   "execution_count": null,
   "metadata": {},
   "outputs": [],
   "source": [
    "from tkinter import *\n",
    "from tkinter import messagebox\n",
    "win=Tk()\n",
    "def submit():\n",
    "    messagebox.askquestion(\"From\",'Do you want to Submit')\n",
    "\n",
    "win.geometry(\"300x300\")\n",
    "b=Button(win,text=\"Submit\",command=submit)\n",
    "b.pack()\n",
    "win.mainloop()"
   ]
  },
  {
   "cell_type": "code",
   "execution_count": null,
   "metadata": {},
   "outputs": [],
   "source": [
    "from tkinter import *\n",
    "win=Tk()\n",
    "win.geometry(\"300x150\")\n",
    "w=Label(win,text=\"Frame\",font=\"50\")\n",
    "w.pack()\n",
    "\n",
    "frame=Frame(win,bd=6,relief=SUNKEN)\n",
    "frame.pack()\n",
    "bottomframe=Frame(win)\n",
    "bottomframe.pack(side=BOTTOM)\n",
    "b=Button(bottomframe,text=\"Submit\",command=submit)\n",
    "b.pack()\n",
    "win.mainloop()"
   ]
  },
  {
   "cell_type": "code",
   "execution_count": null,
   "metadata": {},
   "outputs": [],
   "source": [
    "from tkinter import *\n",
    "win=Tk()\n",
    "win.geometry(\"400x400\")\n",
    "frame1=Frame(win,bg=\"black\",width=500,height=300)\n",
    "frame1.pack()\n",
    "frame2=Frame(frame1,bg=\"grey\",width=100,height=100)\n",
    "frame2.pack(pady=20,padx=20)\n",
    "win.mainloop()"
   ]
  },
  {
   "cell_type": "code",
   "execution_count": 4,
   "metadata": {},
   "outputs": [
    {
     "name": "stdout",
     "output_type": "stream",
     "text": [
      "helloadi\n"
     ]
    }
   ],
   "source": [
    "print(\"hello\"+input('your name'))"
   ]
  }
 ],
 "metadata": {
  "kernelspec": {
   "display_name": "Python 3",
   "language": "python",
   "name": "python3"
  },
  "language_info": {
   "codemirror_mode": {
    "name": "ipython",
    "version": 3
   },
   "file_extension": ".py",
   "mimetype": "text/x-python",
   "name": "python",
   "nbconvert_exporter": "python",
   "pygments_lexer": "ipython3",
   "version": "3.12.0"
  }
 },
 "nbformat": 4,
 "nbformat_minor": 2
}
