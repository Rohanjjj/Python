{
 "cells": [
  {
   "cell_type": "code",
   "execution_count": 15,
   "metadata": {},
   "outputs": [
    {
     "name": "stdout",
     "output_type": "stream",
     "text": [
      "[95, 'Ram']\n"
     ]
    }
   ],
   "source": [
    "'''Given two lists as arguments (marks and names), write a function to return a tuple containing the highest marks and the corresponding name. \n",
    "Input:  marks = [90, 70, 95, 60]    names = ['Raj', 'Sita', 'Ram', 'Ganga']\n",
    "Output: (95, 'Ram') '''\n",
    "l1=[90,70,95,60]\n",
    "l2=['Raj','Sita','Ram','Gagan']\n",
    "t=[]\n",
    "def mac(l1,l2):\n",
    "    for i in range(len(l1)):\n",
    "        if(l1[i]>l1[i-1]):\n",
    "            c=l1[i]\n",
    "            b=l2[i]\n",
    "    t.append(c)\n",
    "    t.append(b)\n",
    "    print(t)\n",
    "mac(l1,l2)"
   ]
  },
  {
   "cell_type": "code",
   "execution_count": 16,
   "metadata": {},
   "outputs": [
    {
     "name": "stdout",
     "output_type": "stream",
     "text": [
      "Output:\n",
      "{'fruit': ['Apple', 'mango'], 'Mamal': ['cat', 'dog'], 'veg': ['beans']}\n"
     ]
    }
   ],
   "source": [
    "'''Given a dict where values are not unique, write a function to create a new dict where the key is the value and the value is concatenated keys of the original dict and return it. \n",
    "Input: {'apple':'fruit', 'cat':'mammal', 'beans':'veg', 'dog':'mammal', 'mango':'fruit'} \n",
    "Output: {'fruit':['apple', 'mango'], 'mammal':['cat', 'dog'], 'veg':['beans']} '''\n",
    "\n",
    "d1={'Apple':'fruit','cat':'Mamal','beans':'veg','dog':'Mamal','mango':'fruit'}\n",
    "d2={}\n",
    "def unique(d1):\n",
    "    d2 = {}\n",
    "    for key, i in d1.items():\n",
    "        if i not in d2:\n",
    "            d2[i] = [key]\n",
    "        else:\n",
    "            d2[i].append(key)\n",
    "    return d2\n",
    "\n",
    "print(\"Output:\")\n",
    "print(unique(d1))\n"
   ]
  },
  {
   "cell_type": "code",
   "execution_count": 17,
   "metadata": {},
   "outputs": [
    {
     "name": "stdout",
     "output_type": "stream",
     "text": [
      "Given number is a perfect square\n",
      "The even numbers are   [0, 2]\n",
      "The even square numbvers are  [0, 1]\n",
      "The even non square numbers are  [2, 3]\n"
     ]
    }
   ],
   "source": [
    "'''Write function definitions for the given function headers with null statements to solve the below problems.\n",
    "def is_square(x): pass \n",
    "\tdef is_even(x): pass\n",
    "a.\tCheck whether a given number is a perfect square.\n",
    "b.\tFind all numbers between 1 and n which are: \n",
    "i.\tboth square and even \n",
    "ii.\tboth even and not square '''\n",
    "\n",
    "x=int(input('Enter a number '))\n",
    "def is_square(x):\n",
    "    import math\n",
    "    if(math.sqrt(x)==int(math.sqrt(x))):\n",
    "        print('Given number is a perfect square')\n",
    "def is_even(x):\n",
    "    l=[]\n",
    "    l1=[]\n",
    "    l2=[]\n",
    "    import math\n",
    "    for i in range(x):\n",
    "        if(i%2==0):\n",
    "            l.append(i)\n",
    "        if(math.sqrt(i)==int(math.sqrt(i))):\n",
    "            l1.append(i)\n",
    "        else:\n",
    "            l2.append(i)\n",
    "    print('The even numbers are  ',l)\n",
    "    print('The even square numbvers are ',l1)\n",
    "    print('The even non square numbers are ',l2)\n",
    "is_square(x)\n",
    "is_even(x)"
   ]
  },
  {
   "cell_type": "code",
   "execution_count": 22,
   "metadata": {},
   "outputs": [
    {
     "name": "stdout",
     "output_type": "stream",
     "text": [
      "bcd\n",
      "`ab\n"
     ]
    }
   ],
   "source": [
    "'''Write a function to code(or encrypt) a given string s1 and write an another function to decode(or decrypt) the coded string.\n",
    "    * Encryption strategy_1: change a to z, b to y ... z to a, y to b \n",
    "    * Encryption strategy_2: change a to b, b to c, .... and z to a'''\n",
    "def encrypt_string(s1):\n",
    "    s2 = \"\"\n",
    "    for i in s1:\n",
    "        if i.isalpha():\n",
    "            s2 += chr(219 - ord(i))\n",
    "        else:\n",
    "            s2 += i\n",
    "    return s2\n",
    "\n",
    "def decrypt_string(s1):\n",
    "    s2 = \"\"\n",
    "    for i in s1:\n",
    "        if i.isalpha():\n",
    "            s2 += chr(219 - ord(i))\n",
    "        else:\n",
    "            s2 += i\n",
    "    return s2\n",
    "\n",
    "def encrypt_string(s1):\n",
    "    s2 = \"\"\n",
    "    for i in s1:\n",
    "        if i.isalpha():\n",
    "            s2 += chr(ord(i) + 1)\n",
    "        else:\n",
    "            s2 += i\n",
    "    return s2\n",
    "\n",
    "def decrypt_string(s1):\n",
    "    s2 = \"\"\n",
    "    for i in s1:\n",
    "        if i.isalpha():\n",
    "            s2 += chr(ord(i) - 1)\n",
    "        else:\n",
    "            s2 += i\n",
    "    return s2\n",
    "\n",
    "s1=input('Enter a number ')\n",
    "print(encrypt_string(s1))\n",
    "print(decrypt_string(s1))\n"
   ]
  },
  {
   "cell_type": "code",
   "execution_count": null,
   "metadata": {},
   "outputs": [],
   "source": [
    "'''Display\n",
    "a.\tIdentity matrix for a given matrix of order n.\n",
    "b.\tTriangular matrix (both lower and upper) for a given matrix.'''\n",
    "def identity_matrix(n):\n",
    "    for i in range(n):\n",
    "        for j in range(n):\n",
    "            if i == j:\n",
    "                print(\"1\", end=\" \")\n",
    "            else:\n",
    "                print(\"0\", end=\" \")\n",
    "        print()\n",
    "\n",
    "def upper_triangular_matrix(matrix):\n",
    "    for i in range(len(matrix)):\n",
    "        for j in range(len(matrix)):\n",
    "            if i <= j:\n",
    "                print(matrix[i][j], end=\" \")\n",
    "            else:\n",
    "                print(\"0\", end=\" \")\n",
    "        print()\n",
    "\n",
    "def lower_triangular_matrix(matrix):\n",
    "    for i in range(len(matrix)):\n",
    "        for j in range(len(matrix)):\n",
    "            if i >= j:\n",
    "                print(matrix[i][j], end=\" \")\n",
    "            else:\n",
    "                print(\"0\", end=\" \")\n",
    "        print()\n",
    "\n",
    "n=int(input('Enter a number '))\n",
    "matrix=[[1,2,3],[2,4,5],[5,6,7]]\n",
    "identity_matrix(n)\n",
    "upper_triangular_matrix(matrix)\n",
    "lower_triangular_matrix(matrix)"
   ]
  },
  {
   "cell_type": "code",
   "execution_count": 21,
   "metadata": {},
   "outputs": [
    {
     "name": "stdout",
     "output_type": "stream",
     "text": [
      "The number of upper case letters are  3\n",
      "The number of lower case letters are  8\n"
     ]
    }
   ],
   "source": [
    "'''Write a function that accepts a string and calculate the number of upper case letters and lower case letters.'''\n",
    "def count(s):\n",
    "    a=0\n",
    "    b=0\n",
    "    for i in range(len(s)):\n",
    "        if(s[i].isupper()):\n",
    "            a=a+1\n",
    "        else:\n",
    "            b=b+1\n",
    "    print('The number of upper case letters are ',a)\n",
    "    print('The number of lower case letters are ',b)\n",
    "\n",
    "s=input('Enter tthe string')\n",
    "count(s)\n"
   ]
  },
  {
   "cell_type": "code",
   "execution_count": 25,
   "metadata": {},
   "outputs": [
    {
     "name": "stdout",
     "output_type": "stream",
     "text": [
      "The number of the upper case letters are  2\n",
      "The number of the lower case letters are  5\n"
     ]
    }
   ],
   "source": [
    "'''Write a function that accepts a string and calculate the number of upper case letters and lower case letters.'''\n",
    "def sen(s):\n",
    "    a=0\n",
    "    b=0\n",
    "    for i in s:\n",
    "        if i.isalpha():\n",
    "            if i.isupper():\n",
    "                a=a+1\n",
    "            else:\n",
    "                b=b+1\n",
    "    print('The number of the upper case letters are ',a)\n",
    "    print('The number of the lower case letters are ',b)\n",
    "\n",
    "s=input('Enter a string')\n",
    "sen(s)\n"
   ]
  },
  {
   "cell_type": "code",
   "execution_count": 1,
   "metadata": {},
   "outputs": [
    {
     "name": "stdout",
     "output_type": "stream",
     "text": [
      "The numbers\n"
     ]
    }
   ],
   "source": [
    "'''Write a function that accepts two strings as input and prints or returns the string \n",
    "with maximum length as the output. If two strings have the same length, then the function \n",
    "should print both the strings as output'''\n",
    "def maxl(s1,s2):\n",
    "    m=len(s1)\n",
    "    n=len(s2)\n",
    "    if(m==n):\n",
    "        print(s1,end=\"/n\")\n",
    "        print(s2)\n",
    "    elif(m>n):\n",
    "        print(s1)\n",
    "    else:\n",
    "        print(s2)\n",
    "s1=input('Enter a string')\n",
    "s2=input('Enter a string')\n",
    "maxl(s1,s2)"
   ]
  },
  {
   "cell_type": "code",
   "execution_count": 18,
   "metadata": {},
   "outputs": [
    {
     "name": "stdout",
     "output_type": "stream",
     "text": [
      "{'karnataka': ['mysore', 'hassan', 'shimoga'], 'tamilnadu': ['chennai'], 'tamilnad': ['madurai'], 'kerala': ['trivandrum']}\n"
     ]
    }
   ],
   "source": [
    "'''Write a function to achieve the following.\n",
    "Create a dictionary of lists given two lists.\n",
    "Sample Input:\n",
    "a = [ 'karnataka', 'tamilnadu', 'karnataka', 'karnataka', 'tamilnad', 'kerala']\n",
    "b = [ 'mysore', 'chennai', 'hassan', 'shimoga', 'madurai', 'trivandrum']\n",
    "Sample output:\n",
    "d = { 'karnataka' : [ 'mysore', 'hassan', 'shimoga' ],\n",
    "'tamilnadu' : [ 'chennai', 'madurai'],\n",
    "'kerala' : [ 'trivandrum' ]\n",
    "}'''\n",
    "def new(a, b):\n",
    "    d = {}\n",
    "    for i in range(len(a)):\n",
    "        if a[i] not in d:\n",
    "            d[a[i]] = []\n",
    "        d[a[i]].append(b[i])\n",
    "    return d\n",
    "\n",
    "a = [ 'karnataka', 'tamilnadu', 'karnataka', 'karnataka', 'tamilnad', 'kerala']\n",
    "b = [ 'mysore', 'chennai', 'hassan', 'shimoga', 'madurai', 'trivandrum']\n",
    "\n",
    "print(new(a, b))"
   ]
  },
  {
   "cell_type": "code",
   "execution_count": null,
   "metadata": {},
   "outputs": [],
   "source": [
    "'''Write a program to find the GCD (Greatest Common Divisor) of two numbers using recursion.'''\n",
    "def gcd(m,n):#recursive function\n",
    "    if m==n:#terminating condition\n",
    "        res=m\n",
    "    elif m>n:\n",
    "        res=gcd(m-n,n)\n",
    "    else:\n",
    "        res=gcd(m,n-m)\n",
    "    return res\n",
    "print('GCD',gcd(65,91))"
   ]
  },
  {
   "cell_type": "code",
   "execution_count": 20,
   "metadata": {},
   "outputs": [
    {
     "name": "stdout",
     "output_type": "stream",
     "text": [
      "akatanrak\n"
     ]
    }
   ],
   "source": [
    "'''Write a function that reverses a string using recursion'''\n",
    "def rev(s):\n",
    "    if len(s) == 0:\n",
    "        return s\n",
    "    else:\n",
    "        return rev(s[1:]) + s[0]\n",
    "\n",
    "s =input('Enter a string ')\n",
    "print(rev(s))\n"
   ]
  }
 ],
 "metadata": {
  "kernelspec": {
   "display_name": "Python 3",
   "language": "python",
   "name": "python3"
  },
  "language_info": {
   "codemirror_mode": {
    "name": "ipython",
    "version": 3
   },
   "file_extension": ".py",
   "mimetype": "text/x-python",
   "name": "python",
   "nbconvert_exporter": "python",
   "pygments_lexer": "ipython3",
   "version": "3.12.6"
  }
 },
 "nbformat": 4,
 "nbformat_minor": 2
}
