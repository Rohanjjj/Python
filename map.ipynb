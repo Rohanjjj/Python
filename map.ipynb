{
 "cells": [
  {
   "cell_type": "code",
   "execution_count": 3,
   "metadata": {},
   "outputs": [
    {
     "name": "stdout",
     "output_type": "stream",
     "text": [
      "[13, 3, 5, 7, 12]\n"
     ]
    }
   ],
   "source": [
    "list1=[12,2,4,6,11]\n",
    "def f1(x):\n",
    "    return x+1\n",
    "list_new=list(map(f1,list1))\n",
    "print(list_new)"
   ]
  },
  {
   "cell_type": "code",
   "execution_count": 4,
   "metadata": {},
   "outputs": [
    {
     "name": "stdout",
     "output_type": "stream",
     "text": [
      "[7, 10, 15]\n"
     ]
    }
   ],
   "source": [
    "list1=[2,4,7]\n",
    "list2=[5,6,8]\n",
    "def f1(x,y):\n",
    "    return x+y\n",
    "list_new=list(map(f1,list1,list2))\n",
    "print(list_new)"
   ]
  },
  {
   "cell_type": "code",
   "execution_count": 4,
   "metadata": {},
   "outputs": [
    {
     "name": "stdout",
     "output_type": "stream",
     "text": [
      "[7, 10, 15]\n"
     ]
    }
   ],
   "source": [
    "list1=[2,4,7]\n",
    "list2=[5,6,8]\n",
    "\n",
    "list_new=list(map(int.__add__,list1,list2))\n",
    "print(list_new)"
   ]
  },
  {
   "cell_type": "code",
   "execution_count": 5,
   "metadata": {},
   "outputs": [
    {
     "name": "stdout",
     "output_type": "stream",
     "text": [
      "[[13, 14, 3, 14], [56, 2]]\n"
     ]
    }
   ],
   "source": [
    "m=[[13,14],[56],9]\n",
    "n=[[3,14],[2]]\n",
    "print(list(map(list.__add__,m,n)))"
   ]
  },
  {
   "cell_type": "code",
   "execution_count": 7,
   "metadata": {},
   "outputs": [
    {
     "name": "stdout",
     "output_type": "stream",
     "text": [
      "[[13, 14, 13, 14], 112, 18]\n"
     ]
    }
   ],
   "source": [
    "m=[[13,14],56,9]\n",
    "def f2(x):\n",
    "    return x*2\n",
    "print(list(map(f2,m)))"
   ]
  },
  {
   "cell_type": "code",
   "execution_count": 9,
   "metadata": {},
   "outputs": [
    {
     "name": "stdout",
     "output_type": "stream",
     "text": [
      "[[12, 34, 22, 23], [56, 23, 11, 23, 26]]\n"
     ]
    }
   ],
   "source": [
    "li=[[12,34],[56,23]]\n",
    "li2=[[22,23],[11,23,26]]\n",
    "print(list(map(list.__add__,li,li2)))"
   ]
  },
  {
   "cell_type": "code",
   "execution_count": 10,
   "metadata": {},
   "outputs": [
    {
     "name": "stdout",
     "output_type": "stream",
     "text": [
      "[-16]\n"
     ]
    }
   ],
   "source": [
    "list1=[13,-16,119,12]\n",
    "def f2(x):\n",
    "    if x<0:\n",
    "        return x\n",
    "print(list(filter(f2,list1)))"
   ]
  },
  {
   "cell_type": "code",
   "execution_count": 12,
   "metadata": {},
   "outputs": [
    {
     "name": "stdout",
     "output_type": "stream",
     "text": [
      "[-16]\n"
     ]
    }
   ],
   "source": [
    "list1=[13,-16,119,12]\n",
    "def f2(x):\n",
    "    return x<0\n",
    "print(list(filter(f2,list1)))"
   ]
  },
  {
   "cell_type": "code",
   "execution_count": 14,
   "metadata": {},
   "outputs": [
    {
     "name": "stdout",
     "output_type": "stream",
     "text": [
      "original list [13, -16, 119, 12, 0, 12, 11, 190, 246, 234]\n",
      "[13, -16, 12, 0, 12, 11]\n"
     ]
    }
   ],
   "source": [
    "list1=[13,-16,119,12,0,12,11,190,246,234]\n",
    "def f2(x):\n",
    "    return x<20\n",
    "print(\"original list\",list1)\n",
    "print(\"newlist\",list(filter(f2,list1)))"
   ]
  },
  {
   "cell_type": "code",
   "execution_count": 15,
   "metadata": {},
   "outputs": [
    {
     "name": "stdout",
     "output_type": "stream",
     "text": [
      "23\n"
     ]
    }
   ],
   "source": [
    "\n",
    "import functools\n",
    "list1=[7,1,2,3,10]\n",
    "def f1(x,y):\n",
    "    return x+y\n",
    "s=functools.reduce(f1,list1)\n",
    "print(s)"
   ]
  },
  {
   "cell_type": "code",
   "execution_count": 5,
   "metadata": {},
   "outputs": [
    {
     "name": "stdout",
     "output_type": "stream",
     "text": [
      "7 - - - 1\n",
      "8 - - - 2\n",
      "10 - - - 3\n",
      "13 - - - 10\n",
      "23\n"
     ]
    }
   ],
   "source": [
    "import functools\n",
    "list1=[7,1,2,3,10]\n",
    "def f1(x,y):\n",
    "    print(x,\"- - -\",y)\n",
    "    return x+y\n",
    "s=functools.reduce(f1,list1)\n",
    "print(s)"
   ]
  }
 ],
 "metadata": {
  "kernelspec": {
   "display_name": "Python 3",
   "language": "python",
   "name": "python3"
  },
  "language_info": {
   "codemirror_mode": {
    "name": "ipython",
    "version": 3
   },
   "file_extension": ".py",
   "mimetype": "text/x-python",
   "name": "python",
   "nbconvert_exporter": "python",
   "pygments_lexer": "ipython3",
   "version": "3.12.4"
  }
 },
 "nbformat": 4,
 "nbformat_minor": 2
}
