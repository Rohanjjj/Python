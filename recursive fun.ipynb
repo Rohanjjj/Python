{
 "cells": [
  {
   "cell_type": "code",
   "execution_count": null,
   "metadata": {},
   "outputs": [],
   "source": [
    "def fact(n):#recursive function\n",
    "    if n==0:#terminating condition \n",
    "        res=1\n",
    "    else:\n",
    "        res=n*fact(n-1)\n",
    "    return(res)\n",
    "print(fact(4))"
   ]
  },
  {
   "cell_type": "code",
   "execution_count": null,
   "metadata": {},
   "outputs": [],
   "source": [
    "#compute gcd of 2 numbers \n",
    "def gcd(m,n):#recursive function\n",
    "    if m==n:#terminating condition\n",
    "        res=m\n",
    "    elif m>n:\n",
    "        res=gcd(m-n,n)\n",
    "    else:\n",
    "        res=gcd(m,n-m)\n",
    "    return res\n",
    "print('GCD',gcd(65,91))"
   ]
  },
  {
   "cell_type": "code",
   "execution_count": null,
   "metadata": {},
   "outputs": [],
   "source": [
    "#fibonasi series upto n terms\n",
    "def fib(n):#recursive function\n",
    "    if n<=1:#terminating condition\n",
    "        return n\n",
    "    else:\n",
    "        return(fib(n-1)+fib(n-2))\n",
    "\n",
    "n=int(input('Enter the number of terms for series'))\n",
    "for i in range(n):\n",
    "    print(fib(i))"
   ]
  },
  {
   "cell_type": "code",
   "execution_count": null,
   "metadata": {},
   "outputs": [],
   "source": [
    "def add(x,y):\n",
    "    if(y==0):\n",
    "        return x\n",
    "    return add(x,y-1)+1\n",
    "\n",
    "print('sum=',add(10,20))\n"
   ]
  },
  {
   "cell_type": "code",
   "execution_count": null,
   "metadata": {},
   "outputs": [],
   "source": []
  },
  {
   "cell_type": "code",
   "execution_count": null,
   "metadata": {},
   "outputs": [],
   "source": [
    "def mult(x,y):\n",
    "    if(x==1):\n",
    "        return y\n",
    "    else:\n",
    "        return mult(x-1,y)+y\n",
    "\n",
    "print('Multi',mult(2,5))"
   ]
  },
  {
   "cell_type": "code",
   "execution_count": null,
   "metadata": {},
   "outputs": [],
   "source": [
    "#subtraction of 2 numbers\n",
    "def subtract(x,y):\n",
    "    if(y==0):\n",
    "        return x\n",
    "    return subtract(x-1,y-1)\n",
    "\n",
    "x=float(input('Enter a number'))\n",
    "y=float(input('Enter a number'))\n",
    "print('Result = ',subtract(x,y))\n"
   ]
  },
  {
   "cell_type": "code",
   "execution_count": null,
   "metadata": {},
   "outputs": [],
   "source": [
    "def prod(b,a):\n",
    "    if(a<b):\n",
    "        return prod(b,a)\n",
    "    elif(b!=0):\n",
    "        return(a+prod(b-1,a))\n",
    "    else:\n",
    "        return 0\n",
    "    \n",
    "print(\"product \",prod(10,20))"
   ]
  },
  {
   "cell_type": "code",
   "execution_count": null,
   "metadata": {},
   "outputs": [],
   "source": [
    "#division of 2 numbers\n",
    "def division(x,y):\n",
    "    if(x<y):\n",
    "        return 0\n",
    "    else:\n",
    "        return 1+division(x-y,y)\n",
    "    \n",
    "print(\"result\",division(20,5))"
   ]
  },
  {
   "cell_type": "code",
   "execution_count": null,
   "metadata": {},
   "outputs": [],
   "source": [
    "def TowerOFHanoi(n,src,aux,dest):\n",
    "    if n==1:\n",
    "        print('Move disk 1 from source ',src,' to destination ',dest)\n",
    "        return\n",
    "    TowerOFHanoi(n-1,src,dest,aux)\n",
    "    print('Move disk',n,'from source',src,'to destination',dest)\n",
    "    TowerOFHanoi(n-1,aux,src,dest)\n",
    "\n",
    "n=int(input(' number of disks'))\n",
    "TowerOFHanoi(n,'A','B','C')"
   ]
  },
  {
   "cell_type": "code",
   "execution_count": null,
   "metadata": {},
   "outputs": [],
   "source": [
    "def printname(name):\n",
    "    return f'My name is {name}'\n",
    "\n",
    "def calfunc(name,func):\n",
    "    msg=func(name)\n",
    "    print(msg)\n",
    "\n",
    "calfunc('Rohan',func=printname)"
   ]
  },
  {
   "cell_type": "code",
   "execution_count": null,
   "metadata": {},
   "outputs": [],
   "source": [
    "def multiply(x):\n",
    "    return num_list[0]*num_list[1]\n",
    "\n",
    "def compute(fun,x):\n",
    "    return fun(x)\n",
    "\n",
    "num_list=[2,3]\n",
    "product=compute(multiply,num_list)\n",
    "print('Multiplication',product)\n",
    "print(id(multiply))"
   ]
  },
  {
   "cell_type": "code",
   "execution_count": null,
   "metadata": {},
   "outputs": [],
   "source": [
    "def function(func_list,x,y):\n",
    "    print('Inside function')\n",
    "    for func in func_list:\n",
    "        func(x,y)\n",
    "\n",
    "def add(x,y):\n",
    "    z=x+y\n",
    "    print('Sum= ',z)\n",
    "\n",
    "def divide(x,y):\n",
    "    z=x/y\n",
    "    print('quotient ',z)\n",
    "\n",
    "cb_list=[add,divide]\n",
    "function(cb_list,10,5)"
   ]
  },
  {
   "cell_type": "code",
   "execution_count": null,
   "metadata": {},
   "outputs": [],
   "source": [
    "a=10\n",
    "b=20\n",
    "def first():\n",
    "    a=20\n",
    "    print(a)\n",
    "    def second():\n",
    "        c=30\n",
    "        print(c)\n",
    "    second()\n",
    "    #print(c)\n",
    "    print(a,b)\n",
    "first()\n",
    "print(a,b)"
   ]
  },
  {
   "cell_type": "code",
   "execution_count": 7,
   "metadata": {},
   "outputs": [
    {
     "name": "stdout",
     "output_type": "stream",
     "text": [
      "7\n",
      "8\n",
      "10\n",
      "7\n"
     ]
    }
   ],
   "source": [
    "x=7\n",
    "def one(x):\n",
    "    x=x+1\n",
    "    print(x)\n",
    "    def two(x):\n",
    "        x=x+2\n",
    "        print(x)\n",
    "    two(x)\n",
    "print(x)\n",
    "one(x)\n",
    "print(x)"
   ]
  },
  {
   "cell_type": "code",
   "execution_count": 8,
   "metadata": {},
   "outputs": [
    {
     "name": "stdout",
     "output_type": "stream",
     "text": [
      "10\n",
      "500\n",
      "[500, 20, 30, 40]\n",
      "[500, 20, 30, 40]\n"
     ]
    }
   ],
   "source": [
    "def f1():\n",
    "    a=[10,20,30,40]\n",
    "    print(a[0])\n",
    "    def f2():\n",
    "        a[0]=500\n",
    "        print(a[0])\n",
    "        print(a)\n",
    "    f2()\n",
    "    print(a)\n",
    "f1()"
   ]
  },
  {
   "cell_type": "code",
   "execution_count": 9,
   "metadata": {},
   "outputs": [
    {
     "name": "stdout",
     "output_type": "stream",
     "text": [
      "K section\n",
      "K section\n"
     ]
    }
   ],
   "source": [
    "#global\n",
    "def f1():\n",
    "    global s\n",
    "    s='K section'\n",
    "    print(s)\n",
    "s='hello class'\n",
    "f1()\n",
    "print(s)"
   ]
  },
  {
   "cell_type": "code",
   "execution_count": 10,
   "metadata": {},
   "outputs": [
    {
     "name": "stdout",
     "output_type": "stream",
     "text": [
      "10\n",
      "20\n",
      "99\n",
      "100\n"
     ]
    }
   ],
   "source": [
    "a=10\n",
    "def f1():\n",
    "    a=20\n",
    "    print(a)\n",
    "def f2():\n",
    "    global a\n",
    "    a=99\n",
    "    print(a)\n",
    "print(a)\n",
    "f1()\n",
    "f2()\n",
    "print(a+1)"
   ]
  },
  {
   "cell_type": "code",
   "execution_count": 12,
   "metadata": {},
   "outputs": [
    {
     "name": "stdout",
     "output_type": "stream",
     "text": [
      "5\n",
      "10\n",
      "20 Hello\n",
      "20\n",
      "5\n"
     ]
    }
   ],
   "source": [
    "#non local\n",
    "def outer():\n",
    "    x=10\n",
    "    print(x)\n",
    "    def inner():\n",
    "        y='Hello'\n",
    "        nonlocal x\n",
    "        x=20\n",
    "        print(x,y)\n",
    "    inner()\n",
    "    print(x)\n",
    "x=5\n",
    "print(x)\n",
    "outer()\n",
    "print(x)"
   ]
  },
  {
   "cell_type": "code",
   "execution_count": 14,
   "metadata": {},
   "outputs": [
    {
     "name": "stdout",
     "output_type": "stream",
     "text": [
      "15\n",
      "30\n"
     ]
    }
   ],
   "source": [
    "def outer(a,b):\n",
    "    sq=a**2\n",
    "    def inner(a,b):\n",
    "        return a+b\n",
    "    add=inner(a,b)\n",
    "    print(add)\n",
    "    return (sq+5)\n",
    "res=outer(5,10)\n",
    "print(res)"
   ]
  },
  {
   "cell_type": "code",
   "execution_count": 17,
   "metadata": {},
   "outputs": [
    {
     "name": "stdout",
     "output_type": "stream",
     "text": [
      "This is an example of clouser\n",
      "2197570253216\n"
     ]
    }
   ],
   "source": [
    "#clouser function\n",
    "#This is the outer function\n",
    "def outer(msg):\n",
    "    def inner():#This is the nested function\n",
    "        print(msg)\n",
    "    return inner#returns the nested function\n",
    "#calling the function\n",
    "differnt=outer('This is an example of clouser')\n",
    "differnt()#reffers to inner()\n",
    "print(id(differnt))"
   ]
  },
  {
   "cell_type": "code",
   "execution_count": 18,
   "metadata": {},
   "outputs": [
    {
     "name": "stdout",
     "output_type": "stream",
     "text": [
      "f2 =  2197570245376\n",
      "Hello\n",
      "World\n",
      "c =  2197570245376\n"
     ]
    }
   ],
   "source": [
    "def f1():\n",
    "    def f2():\n",
    "        print('Hello')\n",
    "        print('World')\n",
    "    print('f2 = ',id(f2))\n",
    "    return f2\n",
    "c=f1()\n",
    "c()\n",
    "print('c = ',id(c))"
   ]
  },
  {
   "cell_type": "code",
   "execution_count": 20,
   "metadata": {},
   "outputs": [
    {
     "name": "stdout",
     "output_type": "stream",
     "text": [
      "Hello\n",
      "World\n"
     ]
    }
   ],
   "source": [
    "def f1():\n",
    "    def f2():\n",
    "        print('Hello')\n",
    "        print('World')\n",
    "    return f2\n",
    "c=f1()\n",
    "del f1\n",
    "c()"
   ]
  },
  {
   "cell_type": "code",
   "execution_count": 21,
   "metadata": {},
   "outputs": [
    {
     "name": "stdout",
     "output_type": "stream",
     "text": [
      "2197570255456\n",
      "2197570255456\n",
      "Hello\n"
     ]
    }
   ],
   "source": [
    "def f1():\n",
    "    def f2():\n",
    "        print('Hello')\n",
    "    print(id(f2))\n",
    "    return f2\n",
    "c=f1()\n",
    "print(id(c))\n",
    "c()"
   ]
  },
  {
   "cell_type": "code",
   "execution_count": 23,
   "metadata": {},
   "outputs": [
    {
     "name": "stdout",
     "output_type": "stream",
     "text": [
      "10.0\n",
      "32.0\n"
     ]
    }
   ],
   "source": [
    "def division(y):\n",
    "    def divide(x):\n",
    "        return x/y\n",
    "    return divide\n",
    "d1=division(2)\n",
    "d2=division(3)\n",
    "print(d1(20))\n",
    "print(d2(96))"
   ]
  },
  {
   "cell_type": "code",
   "execution_count": 2,
   "metadata": {},
   "outputs": [
    {
     "name": "stdout",
     "output_type": "stream",
     "text": [
      "Hello\n",
      "World\n"
     ]
    }
   ],
   "source": [
    "def f1():\n",
    "    def f2():\n",
    "        print(\"Hello\")\n",
    "        print(\"World\")\n",
    "    return f2\n",
    "c=f1()\n",
    "del f1\n",
    "c()"
   ]
  },
  {
   "cell_type": "code",
   "execution_count": 4,
   "metadata": {},
   "outputs": [
    {
     "name": "stdout",
     "output_type": "stream",
     "text": [
      "Hello\n"
     ]
    }
   ],
   "source": [
    "def outer(msg):\n",
    "    text=msg\n",
    "    def inner():\n",
    "        print(text)\n",
    "    return inner\n",
    "func=outer('Hello')\n",
    "func()"
   ]
  },
  {
   "cell_type": "code",
   "execution_count": 5,
   "metadata": {},
   "outputs": [
    {
     "name": "stdout",
     "output_type": "stream",
     "text": [
      "7\n",
      "7\n"
     ]
    }
   ],
   "source": [
    "def outerfunc(x):\n",
    "    def innerfunc():\n",
    "        print(x)\n",
    "    return innerfunc\n",
    "myfunc=outerfunc(7)\n",
    "myfunc()\n",
    "del outerfunc\n",
    "myfunc()"
   ]
  },
  {
   "cell_type": "code",
   "execution_count": 9,
   "metadata": {},
   "outputs": [
    {
     "name": "stdout",
     "output_type": "stream",
     "text": [
      "x= 1\n",
      "x= 2\n"
     ]
    }
   ],
   "source": [
    "def f1():\n",
    "    x=0\n",
    "    def f2():\n",
    "        nonlocal x\n",
    "        x=x+1\n",
    "        return x\n",
    "    return f2\n",
    "func=f1()\n",
    "retval=func()\n",
    "print('x=',retval)\n",
    "retval=func()\n",
    "print('x=',retval)\n"
   ]
  },
  {
   "cell_type": "code",
   "execution_count": 8,
   "metadata": {},
   "outputs": [
    {
     "name": "stdout",
     "output_type": "stream",
     "text": [
      "Hello before the function\n",
      "Inside Hello function\n",
      "Hello after the function is called\n"
     ]
    }
   ],
   "source": [
    "def func_decorator(func):\n",
    "    def inner_func():\n",
    "        print('Hello before the function')\n",
    "        func()\n",
    "        print('Hello after the function is called')\n",
    "    return inner_func\n",
    "\n",
    "def func_hello():\n",
    "    print('Inside Hello function')\n",
    "\n",
    "hello=func_decorator(func_hello)\n",
    "hello()"
   ]
  },
  {
   "cell_type": "code",
   "execution_count": 12,
   "metadata": {},
   "outputs": [
    {
     "name": "stdout",
     "output_type": "stream",
     "text": [
      "Hello before the function\n",
      "Inside Hello function\n",
      "Hello after the function is called\n"
     ]
    }
   ],
   "source": [
    "def func_decorator(func):\n",
    "    def inner_func():\n",
    "        print('Hello before the function')\n",
    "        func()\n",
    "        print('Hello after the function is called')\n",
    "    return inner_func\n",
    "\n",
    "@func_decorator\n",
    "def func_hello():\n",
    "    print('Inside Hello function')\n",
    "\n",
    "func_hello()\n"
   ]
  },
  {
   "cell_type": "code",
   "execution_count": 14,
   "metadata": {},
   "outputs": [
    {
     "name": "stdout",
     "output_type": "stream",
     "text": [
      "Decorator\n",
      "120\n",
      "****************\n",
      "Decorator\n",
      "4.0\n",
      "****************\n",
      "Decorator\n",
      "26\n",
      "****************\n"
     ]
    }
   ],
   "source": [
    "import math\n",
    "def calculate(f):\n",
    "    def inner1(*args):\n",
    "        print('Decorator')\n",
    "        f(*args)\n",
    "        print('****************')\n",
    "    return inner1\n",
    "\n",
    "@calculate\n",
    "def factorial(num):\n",
    "    print(math.factorial(num))\n",
    "\n",
    "@calculate\n",
    "def square_root(num):\n",
    "    print(math.sqrt(num))\n",
    "\n",
    "@calculate\n",
    "def maximum(*num):\n",
    "    print(max(num[0],num[1],num[2]))\n",
    "\n",
    "factorial(5)\n",
    "square_root(16)\n",
    "maximum(26,23,4)"
   ]
  },
  {
   "cell_type": "code",
   "execution_count": null,
   "metadata": {},
   "outputs": [],
   "source": [
    "import math\n",
    "def calculate(f):\n",
    "    def inner1(*args):\n",
    "        print('The hypoteneous')\n",
    "        f(*args)\n",
    "        print('****************')\n",
    "    return inner1\n",
    "\n",
    "@calculate\n",
    "def factorial(a,b):\n",
    "    print(math.sqrt(a*b/2))\n",
    "\n"
   ]
  },
  {
   "cell_type": "code",
   "execution_count": 16,
   "metadata": {},
   "outputs": [
    {
     "name": "stdout",
     "output_type": "stream",
     "text": [
      "YYYYYYYYYYYYYYYYYYYY\n",
      "YYYYYYYYYYYYYYYYYYYY\n"
     ]
    }
   ],
   "source": [
    "def decorator_x(fumc):\n",
    "    def inner_func():\n",
    "        print(\"X\"*20)\n",
    "        func()\n",
    "        print('X'*20)\n",
    "    return inner_func\n",
    "\n",
    "def decorator_y(fumc):\n",
    "    def inner_func():\n",
    "        print(\"Y\"*20)\n",
    "        func()\n",
    "        print('Y'*20)\n",
    "    return inner_func\n",
    "\n",
    "@decorator_y\n",
    "@decorator_x\n",
    "def f():\n",
    "    print('Hello')\n",
    "\n",
    "f()\n",
    "\n",
    "\n",
    "    "
   ]
  }
 ],
 "metadata": {
  "kernelspec": {
   "display_name": "Python 3",
   "language": "python",
   "name": "python3"
  },
  "language_info": {
   "codemirror_mode": {
    "name": "ipython",
    "version": 3
   },
   "file_extension": ".py",
   "mimetype": "text/x-python",
   "name": "python",
   "nbconvert_exporter": "python",
   "pygments_lexer": "ipython3",
   "version": "3.11.6"
  }
 },
 "nbformat": 4,
 "nbformat_minor": 2
}
