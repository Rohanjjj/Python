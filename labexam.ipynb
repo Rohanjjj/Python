{
 "cells": [
  {
   "cell_type": "code",
   "execution_count": 77,
   "metadata": {},
   "outputs": [
    {
     "ename": "KeyboardInterrupt",
     "evalue": "Interrupted by user",
     "output_type": "error",
     "traceback": [
      "\u001b[1;31m---------------------------------------------------------------------------\u001b[0m",
      "\u001b[1;31mKeyboardInterrupt\u001b[0m                         Traceback (most recent call last)",
      "\u001b[1;32mUntitled-1.ipynb Cell 1\u001b[0m line \u001b[0;36m1\n\u001b[1;32m----> <a href='vscode-notebook-cell:Untitled-1.ipynb?jupyter-notebook#W0sdW50aXRsZWQ%3D?line=0'>1</a>\u001b[0m n\u001b[39m=\u001b[39m\u001b[39mint\u001b[39m(\u001b[39minput\u001b[39;49m(\u001b[39m'\u001b[39;49m\u001b[39mEnter the number \u001b[39;49m\u001b[39m'\u001b[39;49m))\n\u001b[0;32m      <a href='vscode-notebook-cell:Untitled-1.ipynb?jupyter-notebook#W0sdW50aXRsZWQ%3D?line=1'>2</a>\u001b[0m a\u001b[39m=\u001b[39m\u001b[39m1\u001b[39m\n\u001b[0;32m      <a href='vscode-notebook-cell:Untitled-1.ipynb?jupyter-notebook#W0sdW50aXRsZWQ%3D?line=2'>3</a>\u001b[0m \u001b[39mfor\u001b[39;00m i \u001b[39min\u001b[39;00m \u001b[39mrange\u001b[39m(n):\n",
      "File \u001b[1;32m~\\AppData\\Local\\Packages\\PythonSoftwareFoundation.Python.3.11_qbz5n2kfra8p0\\LocalCache\\local-packages\\Python311\\site-packages\\ipykernel\\kernelbase.py:1202\u001b[0m, in \u001b[0;36mKernel.raw_input\u001b[1;34m(self, prompt)\u001b[0m\n\u001b[0;32m   1200\u001b[0m     msg \u001b[39m=\u001b[39m \u001b[39m\"\u001b[39m\u001b[39mraw_input was called, but this frontend does not support input requests.\u001b[39m\u001b[39m\"\u001b[39m\n\u001b[0;32m   1201\u001b[0m     \u001b[39mraise\u001b[39;00m StdinNotImplementedError(msg)\n\u001b[1;32m-> 1202\u001b[0m \u001b[39mreturn\u001b[39;00m \u001b[39mself\u001b[39;49m\u001b[39m.\u001b[39;49m_input_request(\n\u001b[0;32m   1203\u001b[0m     \u001b[39mstr\u001b[39;49m(prompt),\n\u001b[0;32m   1204\u001b[0m     \u001b[39mself\u001b[39;49m\u001b[39m.\u001b[39;49m_parent_ident[\u001b[39m\"\u001b[39;49m\u001b[39mshell\u001b[39;49m\u001b[39m\"\u001b[39;49m],\n\u001b[0;32m   1205\u001b[0m     \u001b[39mself\u001b[39;49m\u001b[39m.\u001b[39;49mget_parent(\u001b[39m\"\u001b[39;49m\u001b[39mshell\u001b[39;49m\u001b[39m\"\u001b[39;49m),\n\u001b[0;32m   1206\u001b[0m     password\u001b[39m=\u001b[39;49m\u001b[39mFalse\u001b[39;49;00m,\n\u001b[0;32m   1207\u001b[0m )\n",
      "File \u001b[1;32m~\\AppData\\Local\\Packages\\PythonSoftwareFoundation.Python.3.11_qbz5n2kfra8p0\\LocalCache\\local-packages\\Python311\\site-packages\\ipykernel\\kernelbase.py:1245\u001b[0m, in \u001b[0;36mKernel._input_request\u001b[1;34m(self, prompt, ident, parent, password)\u001b[0m\n\u001b[0;32m   1242\u001b[0m \u001b[39mexcept\u001b[39;00m \u001b[39mKeyboardInterrupt\u001b[39;00m:\n\u001b[0;32m   1243\u001b[0m     \u001b[39m# re-raise KeyboardInterrupt, to truncate traceback\u001b[39;00m\n\u001b[0;32m   1244\u001b[0m     msg \u001b[39m=\u001b[39m \u001b[39m\"\u001b[39m\u001b[39mInterrupted by user\u001b[39m\u001b[39m\"\u001b[39m\n\u001b[1;32m-> 1245\u001b[0m     \u001b[39mraise\u001b[39;00m \u001b[39mKeyboardInterrupt\u001b[39;00m(msg) \u001b[39mfrom\u001b[39;00m \u001b[39mNone\u001b[39;00m\n\u001b[0;32m   1246\u001b[0m \u001b[39mexcept\u001b[39;00m \u001b[39mException\u001b[39;00m:\n\u001b[0;32m   1247\u001b[0m     \u001b[39mself\u001b[39m\u001b[39m.\u001b[39mlog\u001b[39m.\u001b[39mwarning(\u001b[39m\"\u001b[39m\u001b[39mInvalid Message:\u001b[39m\u001b[39m\"\u001b[39m, exc_info\u001b[39m=\u001b[39m\u001b[39mTrue\u001b[39;00m)\n",
      "\u001b[1;31mKeyboardInterrupt\u001b[0m: Interrupted by user"
     ]
    }
   ],
   "source": [
    "n=int(input('Enter the number '))\n",
    "a=1\n",
    "for i in range(n):\n",
    "    for j in range(i+1):\n",
    "        print(a,end=\" \")\n",
    "        a=a+1\n",
    "    print()"
   ]
  },
  {
   "cell_type": "code",
   "execution_count": null,
   "metadata": {},
   "outputs": [
    {
     "name": "stdout",
     "output_type": "stream",
     "text": [
      "   *\n",
      "  ***\n",
      " *****\n",
      "  ***\n",
      "   *\n"
     ]
    }
   ],
   "source": [
    "n=int(input('Enter the number of rows'))\n",
    "if(n%2!=0):\n",
    "    for i in range(n//2+1):\n",
    "        print(\" \"*(n//2-i),end=\" \")\n",
    "        print('*'*(2*i+1))\n",
    "    for j in range(n//2-1,-1,-1):\n",
    "        print(\" \"*(n//2-j),end=\" \")\n",
    "        print(\"*\"*(2*j+1))\n",
    "else:\n",
    "    print('number is not odd')"
   ]
  },
  {
   "cell_type": "code",
   "execution_count": null,
   "metadata": {},
   "outputs": [
    {
     "name": "stdout",
     "output_type": "stream",
     "text": [
      "The lcm is  56\n"
     ]
    }
   ],
   "source": [
    "a=int(input('Enter a number '))\n",
    "b=int(input('Enter a number'))\n",
    "if(a>=b):\n",
    "    max=a\n",
    "else:\n",
    "    max=b\n",
    "lcm=max\n",
    "for i in range(max,(a*b+1)):\n",
    "    if(i%a==0)and(i%b==0):\n",
    "        lcm=i\n",
    "        break\n",
    "print('The lcm is ',lcm)"
   ]
  },
  {
   "cell_type": "code",
   "execution_count": null,
   "metadata": {},
   "outputs": [
    {
     "name": "stdout",
     "output_type": "stream",
     "text": [
      "Y\n"
     ]
    }
   ],
   "source": [
    "n=str(int(input('Enter a number ')))\n",
    "sum=0\n",
    "if(int(n)>0):\n",
    "    for i in n:\n",
    "        sum=sum+int(i)**len(n)\n",
    "    if(int(n)==sum):\n",
    "        print('Y')\n",
    "    else:\n",
    "        print('N')\n",
    "else:\n",
    "    print('-')"
   ]
  },
  {
   "cell_type": "code",
   "execution_count": null,
   "metadata": {},
   "outputs": [
    {
     "name": "stdout",
     "output_type": "stream",
     "text": [
      "[[1, 2], [2, 3]]\n",
      "4\n",
      "4\n"
     ]
    }
   ],
   "source": [
    "l=[]\n",
    "a=input('Enter a list').split()\n",
    "for i in range(len(a)):\n",
    "    a[i]=int(a[i])\n",
    "l.append(a)\n",
    "b=input('Enter a list').split()\n",
    "for i in range(len(b)):\n",
    "    b[i]=int(b[i])\n",
    "l.append(b)\n",
    "print(l)\n",
    "sum1=0\n",
    "sum2=0\n",
    "for i in range(len(l)):\n",
    "    sum1=sum1+l[i][i]\n",
    "    sum2=sum2+l[i][len(l)-i-1]\n",
    "print(sum1)\n",
    "print(sum2)"
   ]
  },
  {
   "cell_type": "code",
   "execution_count": null,
   "metadata": {},
   "outputs": [
    {
     "name": "stdout",
     "output_type": "stream",
     "text": [
      "[[1, 2, 3], [3, 4, 5]]\n",
      "The maximum value = 5\n",
      "False\n"
     ]
    }
   ],
   "source": [
    "l=[]\n",
    "l1=[]\n",
    "a=input('Enter a list').split()\n",
    "for i in range(len(a)):\n",
    "    a[i]=int(a[i])\n",
    "l.append(a)\n",
    "b=input('Enter a list').split()\n",
    "for i in range(len(b)):\n",
    "    b[i]=int(b[i])\n",
    "l.append(b)\n",
    "print(l)\n",
    "for element in l:\n",
    "    if type(element) is list:\n",
    "        for item in element:\n",
    "            l1.append(item)\n",
    "    else:\n",
    "        l1.append(element)\n",
    "c=sorted(l1)\n",
    "print('The maximum value =',c[-1])\n",
    "r=c[-1]\n",
    "print(r in l)  \n"
   ]
  },
  {
   "cell_type": "code",
   "execution_count": null,
   "metadata": {},
   "outputs": [
    {
     "name": "stdout",
     "output_type": "stream",
     "text": [
      "The flattened list is [1, 2, 3, 4, 5, 6, 7, 8, 9, 10].\n"
     ]
    }
   ],
   "source": [
    "def flatten(nested_list):\n",
    "    flat_list = []\n",
    "    for sublist in nested_list:\n",
    "        if isinstance(sublist, list):\n",
    "            flat_list.extend(flatten(sublist))\n",
    "        else:\n",
    "            flat_list.append(sublist)\n",
    "    return flat_list\n",
    "\n",
    "# Example usage\n",
    "nested_list = [[1, 2, 3], [4, [5, 6]], 7, [8, [9, 10]]]\n",
    "flat_list = flatten(nested_list)\n",
    "print(f\"The flattened list is {flat_list}.\")\n"
   ]
  },
  {
   "cell_type": "code",
   "execution_count": null,
   "metadata": {},
   "outputs": [
    {
     "name": "stdout",
     "output_type": "stream",
     "text": [
      "[[3, 4, 5], [1, 2, 3]]\n",
      "The maximum value in the 2D list is 5 at row 0 and column 2\n"
     ]
    }
   ],
   "source": [
    "l=[]\n",
    "a=input('Enter a list').split()\n",
    "for i in range(len(a)):\n",
    "    a[i]=int(a[i])\n",
    "l.append(a)\n",
    "b=input('Enter a list').split()\n",
    "for i in range(len(b)):\n",
    "    b[i]=int(b[i])\n",
    "l.append(b)\n",
    "print(l)\n",
    "def find_max(matrix):\n",
    "    max_value = matrix[0][0]\n",
    "    max_row = 0\n",
    "    max_col = 0\n",
    "    for i in range(len(matrix)):\n",
    "        for j in range(len(matrix[i])):\n",
    "            if matrix[i][j] > max_value:\n",
    "                max_value = matrix[i][j]\n",
    "                max_row = i\n",
    "                max_col = j\n",
    "    print(\"The maximum value in the 2D list is\", max_value, \"at row\", max_row, \"and column\", max_col)\n",
    "\n",
    "matrix = l\n",
    "find_max(matrix)\n"
   ]
  },
  {
   "cell_type": "code",
   "execution_count": null,
   "metadata": {},
   "outputs": [
    {
     "name": "stdout",
     "output_type": "stream",
     "text": [
      "[[1, 2, 3], [3, 4, 5]]\n",
      "The maximum value in the 2D list is 1 at row 0 and column 0\n"
     ]
    }
   ],
   "source": [
    "l=[]\n",
    "a=input('Enter a list').split()\n",
    "for i in range(len(a)):\n",
    "    a[i]=int(a[i])\n",
    "l.append(a)\n",
    "b=input('Enter a list').split()\n",
    "for i in range(len(b)):\n",
    "    b[i]=int(b[i])\n",
    "l.append(b)\n",
    "print(l)\n",
    "def find_max(matrix):\n",
    "    max_value = matrix[0][0]\n",
    "    max_row = 0\n",
    "    max_col = 0\n",
    "    for i in range(len(matrix)):\n",
    "        for j in range(len(matrix[i])):\n",
    "            if matrix[i][j] < max_value:\n",
    "                max_value = matrix[i][j]\n",
    "                max_row = i\n",
    "                max_col = j\n",
    "    print(\"The maximum value in the 2D list is\", max_value, \"at row\", max_row, \"and column\", max_col)\n",
    "\n",
    "matrix = l\n",
    "find_max(matrix)\n"
   ]
  },
  {
   "cell_type": "code",
   "execution_count": null,
   "metadata": {},
   "outputs": [
    {
     "name": "stdout",
     "output_type": "stream",
     "text": [
      "[30, 40, 50]\n"
     ]
    }
   ],
   "source": [
    "def remove(n, l, k):\n",
    "    d = {}\n",
    "    for i in l:\n",
    "        if i in d:\n",
    "            d[i] += 1\n",
    "        else:\n",
    "            d[i] = 1\n",
    "    c = []\n",
    "    for i in l:\n",
    "        if d[i] != k:\n",
    "            c.append(i)\n",
    "    return c\n",
    "\n",
    "n =int(input('enter the number'))\n",
    "l =input('Enter a list ').split()\n",
    "for j in range(len(l)):\n",
    "    l[j]=int(l[j])\n",
    "k =int(input('Enter the threshold value '))\n",
    "print(remove(n, l, k))\n"
   ]
  },
  {
   "cell_type": "code",
   "execution_count": null,
   "metadata": {},
   "outputs": [
    {
     "name": "stdout",
     "output_type": "stream",
     "text": [
      "[10, 10, 20, 20]\n"
     ]
    }
   ],
   "source": [
    "def remove(n,l,k):\n",
    "    d={}\n",
    "    for i in l:\n",
    "        if i in d:\n",
    "            d[i]=d[i]+1\n",
    "        else:\n",
    "            d[i]=1\n",
    "    c=[]\n",
    "    for i in l:\n",
    "        if d[i]==k:\n",
    "            c.append(i)\n",
    "    return c\n",
    "n=int(input('enter the number'))\n",
    "l =input('Enter a list ').split()\n",
    "for j in range(len(l)):\n",
    "    l[j]=int(l[j])\n",
    "k =int(input('Enter the threshold value '))\n",
    "print(remove(n, l, k))"
   ]
  },
  {
   "cell_type": "code",
   "execution_count": null,
   "metadata": {},
   "outputs": [
    {
     "ename": "TypeError",
     "evalue": "'int' object is not callable",
     "output_type": "error",
     "traceback": [
      "\u001b[1;31m---------------------------------------------------------------------------\u001b[0m",
      "\u001b[1;31mTypeError\u001b[0m                                 Traceback (most recent call last)",
      "\u001b[1;32mUntitled-1.ipynb Cell 12\u001b[0m line \u001b[0;36m1\n\u001b[0;32m     <a href='vscode-notebook-cell:Untitled-1.ipynb?jupyter-notebook#X21sdW50aXRsZWQ%3D?line=14'>15</a>\u001b[0m     \u001b[39mreturn\u001b[39;00m most_frequent_sub_str\n\u001b[0;32m     <a href='vscode-notebook-cell:Untitled-1.ipynb?jupyter-notebook#X21sdW50aXRsZWQ%3D?line=15'>16</a>\u001b[0m string \u001b[39m=\u001b[39m \u001b[39m\"\u001b[39m\u001b[39mThis is a test string testtest\u001b[39m\u001b[39m\"\u001b[39m\n\u001b[1;32m---> <a href='vscode-notebook-cell:Untitled-1.ipynb?jupyter-notebook#X21sdW50aXRsZWQ%3D?line=16'>17</a>\u001b[0m substring \u001b[39m=\u001b[39m find_most_frequent_sub_str(string)\n\u001b[0;32m     <a href='vscode-notebook-cell:Untitled-1.ipynb?jupyter-notebook#X21sdW50aXRsZWQ%3D?line=17'>18</a>\u001b[0m \u001b[39mprint\u001b[39m(\u001b[39m\"\u001b[39m\u001b[39mThe most frequent substring is: \u001b[39m\u001b[39m\"\u001b[39m, substring)\n",
      "\u001b[1;32mUntitled-1.ipynb Cell 12\u001b[0m line \u001b[0;36m1\n\u001b[0;32m     <a href='vscode-notebook-cell:Untitled-1.ipynb?jupyter-notebook#X21sdW50aXRsZWQ%3D?line=10'>11</a>\u001b[0m         \u001b[39melse\u001b[39;00m:\n\u001b[0;32m     <a href='vscode-notebook-cell:Untitled-1.ipynb?jupyter-notebook#X21sdW50aXRsZWQ%3D?line=11'>12</a>\u001b[0m             sub_str_count[sub_str] \u001b[39m=\u001b[39m \u001b[39m1\u001b[39m\n\u001b[1;32m---> <a href='vscode-notebook-cell:Untitled-1.ipynb?jupyter-notebook#X21sdW50aXRsZWQ%3D?line=13'>14</a>\u001b[0m most_frequent_sub_str \u001b[39m=\u001b[39m \u001b[39mmax\u001b[39;49m(sub_str_count, key\u001b[39m=\u001b[39;49msub_str_count\u001b[39m.\u001b[39;49mget)\n\u001b[0;32m     <a href='vscode-notebook-cell:Untitled-1.ipynb?jupyter-notebook#X21sdW50aXRsZWQ%3D?line=14'>15</a>\u001b[0m \u001b[39mreturn\u001b[39;00m most_frequent_sub_str\n",
      "\u001b[1;31mTypeError\u001b[0m: 'int' object is not callable"
     ]
    }
   ],
   "source": [
    "def find_most_frequent_sub_str(string):\n",
    "    sub_str_count = {}\n",
    "    length = len(string)\n",
    "    \n",
    "    for i in range(length):\n",
    "        for j in range(i + 1, length + 1):\n",
    "            sub_str = string[i:j]\n",
    "            \n",
    "            if sub_str in sub_str_count:\n",
    "                sub_str_count[sub_str] += 1\n",
    "            else:\n",
    "                sub_str_count[sub_str] = 1\n",
    "                \n",
    "    most_frequent_sub_str = max(sub_str_count, key=sub_str_count.get)\n",
    "    return most_frequent_sub_str\n",
    "string = \"This is a test string testtest\"\n",
    "substring = find_most_frequent_sub_str(string)\n",
    "print(\"The most frequent substring is: \", substring)"
   ]
  },
  {
   "cell_type": "code",
   "execution_count": null,
   "metadata": {},
   "outputs": [
    {
     "name": "stdout",
     "output_type": "stream",
     "text": [
      "The most frequent occurrence of 'erbottlewat' is in the word 'waterbottle'\n"
     ]
    }
   ],
   "source": [
    "from collections import Counter\n",
    "\n",
    "# Get inputs from the user\n",
    "test_str = input(\"Enter the test string: \")\n",
    "sub_str = input(\"Enter the substring to find: \")\n",
    "\n",
    "# Split the test string into words\n",
    "words = test_str.split()\n",
    "\n",
    "# Initialize a counter to keep track of sub_str occurrences\n",
    "counter = Counter()\n",
    "\n",
    "# Iterate over each word in the list of words\n",
    "for word in words:\n",
    "    # Find the number of times sub_str occurs in the current word\n",
    "    count = word.count(sub_str)\n",
    "    counter[word] += count\n",
    "\n",
    "# Find the word with the maximum number of sub_str occurrences\n",
    "most_frequent_word = counter.most_common(1)[0][0]\n",
    "\n",
    "print(f\"The most frequent occurrence of '{sub_str}' is in the word '{most_frequent_word}'\")\n"
   ]
  },
  {
   "cell_type": "code",
   "execution_count": null,
   "metadata": {},
   "outputs": [
    {
     "name": "stdout",
     "output_type": "stream",
     "text": [
      "The most frequent occurrence of 'test' is in the word 'testtest'\n"
     ]
    }
   ],
   "source": [
    "from collections import Counter\n",
    "\n",
    "# Get inputs from the user\n",
    "test_str = input(\"Enter the test string: \")\n",
    "sub_str = input(\"Enter the substring to find: \")\n",
    "\n",
    "# Split the test string into words\n",
    "words = test_str.split()\n",
    "\n",
    "# Initialize a counter to keep track of sub_str occurrences\n",
    "counter = Counter()\n",
    "\n",
    "# Iterate over each word in the list of words\n",
    "for word in words:\n",
    "    # Find the number of times sub_str occurs in the current word\n",
    "    count = word.count(sub_str)\n",
    "    counter[word] += count\n",
    "\n",
    "# Find the word with the maximum number of sub_str occurrences\n",
    "most_frequent_word = counter.most_common(1)[0][0]\n",
    "\n",
    "print(f\"The most frequent occurrence of '{sub_str}' is in the word '{most_frequent_word}'\")"
   ]
  },
  {
   "cell_type": "code",
   "execution_count": null,
   "metadata": {},
   "outputs": [
    {
     "name": "stdout",
     "output_type": "stream",
     "text": [
      "string2 is a rotation of string1\n"
     ]
    }
   ],
   "source": [
    "s=input(\"Enter the string:\")\n",
    "t=input(\"enter the string:\")\n",
    "if(len(s)!=len(t)):\n",
    "  print(\"string2 is not a rotation of string1\")\n",
    "elif(t in s+s):\n",
    "  print(\"string2 is a rotation of string1\")\n",
    "else:\n",
    "  print(\"string2 is not a rotation of string1\")\n"
   ]
  },
  {
   "cell_type": "code",
   "execution_count": null,
   "metadata": {},
   "outputs": [
    {
     "name": "stdout",
     "output_type": "stream",
     "text": [
      "The unique substrings of the given string are:\n",
      "a\n",
      "ar\n",
      "c\n",
      "ca\n",
      "car\n",
      "r\n"
     ]
    }
   ],
   "source": [
    "def unique(s):\n",
    "    n = len(s)\n",
    "    subs = set()\n",
    "\n",
    "    for i in range(n):\n",
    "        for j in range(i + 1, n + 1):\n",
    "            subs.add(s[i:j])\n",
    "\n",
    "    return sorted(list(subs))\n",
    "\n",
    "# Test the function\n",
    "s = input(\"Enter the test string: \")\n",
    "result = unique(s)\n",
    "print(\"The unique substrings of the given string are:\")\n",
    "for sub in result:\n",
    "    print(sub)"
   ]
  },
  {
   "cell_type": "code",
   "execution_count": null,
   "metadata": {},
   "outputs": [
    {
     "ename": "KeyboardInterrupt",
     "evalue": "Interrupted by user",
     "output_type": "error",
     "traceback": [
      "\u001b[1;31m---------------------------------------------------------------------------\u001b[0m",
      "\u001b[1;31mKeyboardInterrupt\u001b[0m                         Traceback (most recent call last)",
      "\u001b[1;32mUntitled-1.ipynb Cell 17\u001b[0m line \u001b[0;36m1\n\u001b[0;32m     <a href='vscode-notebook-cell:Untitled-1.ipynb?jupyter-notebook#X30sdW50aXRsZWQ%3D?line=14'>15</a>\u001b[0m     \u001b[39mreturn\u001b[39;00m \u001b[39mTrue\u001b[39;00m\n\u001b[0;32m     <a href='vscode-notebook-cell:Untitled-1.ipynb?jupyter-notebook#X30sdW50aXRsZWQ%3D?line=16'>17</a>\u001b[0m \u001b[39m# Take two strings as inputs from the user\u001b[39;00m\n\u001b[1;32m---> <a href='vscode-notebook-cell:Untitled-1.ipynb?jupyter-notebook#X30sdW50aXRsZWQ%3D?line=17'>18</a>\u001b[0m s1 \u001b[39m=\u001b[39m \u001b[39minput\u001b[39;49m(\u001b[39m\"\u001b[39;49m\u001b[39mEnter the first string: \u001b[39;49m\u001b[39m\"\u001b[39;49m)\n\u001b[0;32m     <a href='vscode-notebook-cell:Untitled-1.ipynb?jupyter-notebook#X30sdW50aXRsZWQ%3D?line=18'>19</a>\u001b[0m s2 \u001b[39m=\u001b[39m \u001b[39minput\u001b[39m(\u001b[39m\"\u001b[39m\u001b[39mEnter the second string: \u001b[39m\u001b[39m\"\u001b[39m)\n\u001b[0;32m     <a href='vscode-notebook-cell:Untitled-1.ipynb?jupyter-notebook#X30sdW50aXRsZWQ%3D?line=20'>21</a>\u001b[0m \u001b[39m# Check if the second string is an anagram of the first string\u001b[39;00m\n",
      "File \u001b[1;32m~\\AppData\\Local\\Packages\\PythonSoftwareFoundation.Python.3.11_qbz5n2kfra8p0\\LocalCache\\local-packages\\Python311\\site-packages\\ipykernel\\kernelbase.py:1202\u001b[0m, in \u001b[0;36mKernel.raw_input\u001b[1;34m(self, prompt)\u001b[0m\n\u001b[0;32m   1200\u001b[0m     msg \u001b[39m=\u001b[39m \u001b[39m\"\u001b[39m\u001b[39mraw_input was called, but this frontend does not support input requests.\u001b[39m\u001b[39m\"\u001b[39m\n\u001b[0;32m   1201\u001b[0m     \u001b[39mraise\u001b[39;00m StdinNotImplementedError(msg)\n\u001b[1;32m-> 1202\u001b[0m \u001b[39mreturn\u001b[39;00m \u001b[39mself\u001b[39;49m\u001b[39m.\u001b[39;49m_input_request(\n\u001b[0;32m   1203\u001b[0m     \u001b[39mstr\u001b[39;49m(prompt),\n\u001b[0;32m   1204\u001b[0m     \u001b[39mself\u001b[39;49m\u001b[39m.\u001b[39;49m_parent_ident[\u001b[39m\"\u001b[39;49m\u001b[39mshell\u001b[39;49m\u001b[39m\"\u001b[39;49m],\n\u001b[0;32m   1205\u001b[0m     \u001b[39mself\u001b[39;49m\u001b[39m.\u001b[39;49mget_parent(\u001b[39m\"\u001b[39;49m\u001b[39mshell\u001b[39;49m\u001b[39m\"\u001b[39;49m),\n\u001b[0;32m   1206\u001b[0m     password\u001b[39m=\u001b[39;49m\u001b[39mFalse\u001b[39;49;00m,\n\u001b[0;32m   1207\u001b[0m )\n",
      "File \u001b[1;32m~\\AppData\\Local\\Packages\\PythonSoftwareFoundation.Python.3.11_qbz5n2kfra8p0\\LocalCache\\local-packages\\Python311\\site-packages\\ipykernel\\kernelbase.py:1245\u001b[0m, in \u001b[0;36mKernel._input_request\u001b[1;34m(self, prompt, ident, parent, password)\u001b[0m\n\u001b[0;32m   1242\u001b[0m \u001b[39mexcept\u001b[39;00m \u001b[39mKeyboardInterrupt\u001b[39;00m:\n\u001b[0;32m   1243\u001b[0m     \u001b[39m# re-raise KeyboardInterrupt, to truncate traceback\u001b[39;00m\n\u001b[0;32m   1244\u001b[0m     msg \u001b[39m=\u001b[39m \u001b[39m\"\u001b[39m\u001b[39mInterrupted by user\u001b[39m\u001b[39m\"\u001b[39m\n\u001b[1;32m-> 1245\u001b[0m     \u001b[39mraise\u001b[39;00m \u001b[39mKeyboardInterrupt\u001b[39;00m(msg) \u001b[39mfrom\u001b[39;00m \u001b[39mNone\u001b[39;00m\n\u001b[0;32m   1246\u001b[0m \u001b[39mexcept\u001b[39;00m \u001b[39mException\u001b[39;00m:\n\u001b[0;32m   1247\u001b[0m     \u001b[39mself\u001b[39m\u001b[39m.\u001b[39mlog\u001b[39m.\u001b[39mwarning(\u001b[39m\"\u001b[39m\u001b[39mInvalid Message:\u001b[39m\u001b[39m\"\u001b[39m, exc_info\u001b[39m=\u001b[39m\u001b[39mTrue\u001b[39;00m)\n",
      "\u001b[1;31mKeyboardInterrupt\u001b[0m: Interrupted by user"
     ]
    }
   ],
   "source": [
    "def is_anagram(s1, s2):\n",
    "    # Convert both strings to lowercase\n",
    "    s1 = s1.lower()\n",
    "    s2 = s2.lower()\n",
    "\n",
    "    # Check if both strings have the same length\n",
    "    if len(s1) != len(s2):\n",
    "        return False\n",
    "\n",
    "    # Check if both strings have the same characters\n",
    "    for i in s1:\n",
    "        if s1.count(i) != s2.count(i):\n",
    "            return False\n",
    "\n",
    "    return True\n",
    "\n",
    "# Take two strings as inputs from the user\n",
    "s1 = input(\"Enter the first string: \")\n",
    "s2 = input(\"Enter the second string: \")\n",
    "\n",
    "# Check if the second string is an anagram of the first string\n",
    "if is_anagram(s1, s2):\n",
    "    print('Y')\n",
    "else:\n",
    "    print('N')"
   ]
  },
  {
   "cell_type": "code",
   "execution_count": null,
   "metadata": {},
   "outputs": [
    {
     "name": "stdout",
     "output_type": "stream",
     "text": [
      "52\n"
     ]
    }
   ],
   "source": [
    "def sl(a):\n",
    "    a = a.lower() # convert the string to lowercase\n",
    "    total = 0 # initialize the total sum\n",
    "    for letter in a: # loop through each letter in the string\n",
    "        value = ord(letter) - ord('a') + 1 # calculate the value of the letter using the ord() function\n",
    "        total += value # add the value to the total sum\n",
    "    return total # return the total sum\n",
    "\n",
    "a =input('Enter a string ') # input string\n",
    "print(sl(a)) # print the result\n"
   ]
  },
  {
   "cell_type": "code",
   "execution_count": 79,
   "metadata": {},
   "outputs": [
    {
     "name": "stdout",
     "output_type": "stream",
     "text": [
      "Ifmmp, Xpsme\n"
     ]
    }
   ],
   "source": [
    "def sen(s):\n",
    "    new_sentence = \"\"\n",
    "    for char in s:\n",
    "        if char.isalpha():\n",
    "            if char.lower() == 'z':\n",
    "                new_char = 'a' if char.isupper() else 'a'\n",
    "            else:\n",
    "                new_char = chr(ord(char) + 1)\n",
    "            new_sentence += new_char\n",
    "        else:\n",
    "            new_sentence += char\n",
    "    return new_sentence\n",
    "\n",
    "# test the function\n",
    "s = input(\"Enter a sentence: \")\n",
    "print(sen(s))"
   ]
  }
 ],
 "metadata": {
  "kernelspec": {
   "display_name": "Python 3",
   "language": "python",
   "name": "python3"
  },
  "language_info": {
   "codemirror_mode": {
    "name": "ipython",
    "version": 3
   },
   "file_extension": ".py",
   "mimetype": "text/x-python",
   "name": "python",
   "nbconvert_exporter": "python",
   "pygments_lexer": "ipython3",
   "version": "3.11.6"
  }
 },
 "nbformat": 4,
 "nbformat_minor": 2
}
